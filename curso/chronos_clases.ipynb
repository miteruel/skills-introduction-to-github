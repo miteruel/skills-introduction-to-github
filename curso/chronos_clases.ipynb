{
 "cells": [
  {
   "cell_type": "code",
   "execution_count": null,
   "id": "0e6b332e-9ede-4a39-b3b5-c4af36cc578d",
   "metadata": {},
   "outputs": [],
   "source": [
    "#!pip install git+https://github.com/amazon-science/chronos-forecasting.git"
   ]
  },
  {
   "cell_type": "markdown",
   "id": "3c69fd35-1307-4135-b948-7ab2e29437f9",
   "metadata": {},
   "source": [
    "\n",
    "https://huggingface.co/amazon/chronos-t5-tiny\n",
    "\n",
    "https://github.com/amazon-science/chronos-forecasting\n",
    "Lenguage de las  Series :\n",
    "https://arxiv.org/pdf/2403.07815\n",
    "\n",
    "Transferencia de aprendizage: Text-to-text\n",
    "https://arxiv.org/pdf/1910.10683\n",
    "\n",
    "#Hugging face\n",
    "* https://github.com/huggingface/transformers/blob/main/i18n/README_es.md\n",
    "* https://huggingface.co/docs/transformers/v4.45.2/es/tokenizer_summary"
   ]
  },
  {
   "cell_type": "markdown",
   "id": "56534b2b-1232-4794-9093-5b1405882397",
   "metadata": {},
   "source": [
    "\n",
    "# chronos-forecasting\n",
    "* https://huggingface.co/amazon/chronos-t5-tiny\n",
    "* https://github.com/amazon-science/chronos-forecasting\n",
    "* Lenguage de las Series : https://arxiv.org/pdf/2403.07815\n",
    "\n",
    "\n",
    "\n",
    "# Ideas Clave\n",
    "\n",
    "## ¿Qué es el aprendizaje por transferencia y cómo se aplica al procesamiento del lenguaje natural (PNL)?\n",
    "* Aprendizaje por Transferencia: Técnica que implica entrenar previamente un modelo en una tarea con abundantes datos antes de ajustarlo para una tarea específica.\n",
    "* Enfoque \"Texto a Texto\": Enfoque unificado que trata cada problema de procesamiento de texto como un problema de traducción de texto a texto.\n",
    "\n",
    "* Arquitectura Transformer: Arquitectura de red neuronal que utiliza mecanismos de atención para procesar secuencias de datos de forma paralela.\n",
    "## Glosario de Términos \n",
    "* Conjunto de Datos de Preentrenamiento: Conjunto de datos grande y diverso utilizado para entrenar previamente un modelo.\n",
    "\n",
    "* Ajuste Fino: Proceso de ajustar un modelo preentrenado en una tarea específica.\n",
    "\n",
    "* Escalado: Aumento del tamaño del modelo, el tiempo de entrenamiento o el tamaño del conjunto de datos para mejorar el rendimiento del modelo.\n",
    "\n",
    "* Series Temporales: Secuencia de puntos de datos ordenados en el tiempo.\n",
    "\n",
    "* Predicción de Series Temporales: Utilización de datos históricos para predecir valores futuros en una serie temporal.\n",
    "\n",
    "* Redes Neuronales Recurrentes (RNN): Tipo de red neuronal profunda adecuada para procesar datos secuenciales.\n",
    " A diferencia de las redes neuronales tradicionales, las RNN tienen la capacidad de recordar información de entradas anteriores y utilizarla para influir en la salida actual\n",
    "\n",
    "https://www.ibm.com/es-es/topics/recurrent-neural-networks\n",
    "\n",
    "* Modelos de Lenguaje Grande (LLM): Modelos de lenguaje entrenados en conjuntos de datos de texto masivos, como GPT-3 y Llama 2.\n",
    "\n",
    "* Chronos: Marco novedoso que adapta los modelos de lenguaje a la predicción de series temporales mediante la tokenización de valores de series temporales en bins discretos.\n",
    "\n",
    "* Tokenización: Proceso de convertir datos continuos en representaciones discretas (tokens).\n"
   ]
  },
  {
   "cell_type": "code",
   "execution_count": null,
   "id": "6a27857a-fc64-4e78-9053-80994d2bb177",
   "metadata": {},
   "outputs": [],
   "source": []
  },
  {
   "cell_type": "code",
   "execution_count": null,
   "id": "df5123d1-0c34-4c16-97ff-d5060b3d02aa",
   "metadata": {},
   "outputs": [],
   "source": [
    "import matplotlib.pyplot as plt\n",
    "import numpy as np\n",
    "import pandas as pd\n",
    "import torch\n",
    "from chronos import ChronosPipeline\n",
    "\n",
    "\n",
    "\n",
    "# device_map=\"cuda\",\n",
    " \n",
    "pipeline = ChronosPipeline.from_pretrained(\n",
    "  \"amazon/chronos-t5-tiny\",\n",
    "  device_map=\"cpu\",\n",
    "  torch_dtype=torch.bfloat16,\n",
    ")\n",
    "\n",
    "df = pd.read_csv(\"https://raw.githubusercontent.com/AileenNielsen/TimeSeriesAnalysisWithPython/master/data/AirPassengers.csv\")\n",
    "\n",
    "# context must be either a 1D tensor, a list of 1D tensors,\n",
    "# or a left-padded 2D tensor with batch as the first dimension\n",
    "context = torch.tensor(df[\"#Passengers\"])\n",
    "prediction_length = 12\n",
    "forecast = pipeline.predict(context, prediction_length)  # shape [num_series, num_samples, prediction_length]\n",
    "\n",
    "# visualize the forecast\n",
    "forecast_index = range(len(df), len(df) + prediction_length)\n",
    "low, median, high = np.quantile(forecast[0].numpy(), [0.1, 0.5, 0.9], axis=0)\n",
    "\n",
    "plt.figure(figsize=(8, 4))\n",
    "plt.plot(df[\"#Passengers\"], color=\"royalblue\", label=\"historical data\")\n",
    "plt.plot(forecast_index, median, color=\"tomato\", label=\"median forecast\")\n",
    "plt.fill_between(forecast_index, low, high, color=\"tomato\", alpha=0.3, label=\"80% prediction interval\")\n",
    "plt.legend()\n",
    "plt.grid()\n",
    "plt.show()"
   ]
  },
  {
   "cell_type": "code",
   "execution_count": null,
   "id": "0c794547-3dc9-4030-aa11-46e28c150a12",
   "metadata": {},
   "outputs": [],
   "source": [
    "print(forecast.shape)\n",
    "print(forecast)"
   ]
  },
  {
   "cell_type": "code",
   "execution_count": null,
   "id": "e07421d3-d9b6-427a-9860-331299761afd",
   "metadata": {},
   "outputs": [],
   "source": [
    "print(ChronosPipeline.predict.__doc__)\n"
   ]
  },
  {
   "cell_type": "code",
   "execution_count": null,
   "id": "dd1f51b0-f209-454a-b55d-95a93c0948c3",
   "metadata": {},
   "outputs": [],
   "source": []
  },
  {
   "cell_type": "code",
   "execution_count": null,
   "id": "2dfa7c47-4650-4840-aa55-388a4f4cf641",
   "metadata": {},
   "outputs": [],
   "source": [
    "import matplotlib.pyplot as plt\n",
    "import numpy as np\n",
    "import pandas as pd\n",
    "import torch\n",
    "from chronos import ChronosPipeline\n",
    "# device_map=\"cuda\",\n",
    " \n",
    "pipeline = ChronosPipeline.from_pretrained(\n",
    "  \"amazon/chronos-t5-tiny\",\n",
    "  device_map=\"cpu\",\n",
    "  torch_dtype=torch.bfloat16,\n",
    ")\n",
    "\n"
   ]
  },
  {
   "cell_type": "code",
   "execution_count": null,
   "id": "8de43460-21c1-429d-b7aa-b694035ee481",
   "metadata": {},
   "outputs": [],
   "source": [
    "energia = pd.read_csv(\"energy_dataset.csv\")\n",
    "energia.head()"
   ]
  },
  {
   "cell_type": "code",
   "execution_count": null,
   "id": "890a7ba9-f166-4738-90cb-0fb85ba694a0",
   "metadata": {},
   "outputs": [],
   "source": [
    "context = torch.tensor(energia[\"price actual\"])\n",
    "prediction_length = 64\n",
    "forecast = pipeline.predict(context, prediction_length)  # shape [num_series, num_samples, prediction_length]\n"
   ]
  },
  {
   "cell_type": "code",
   "execution_count": null,
   "id": "c8156390-e4a9-4682-a5a4-29a5f257f5d0",
   "metadata": {},
   "outputs": [],
   "source": [
    "\n",
    "# visualize the forecast\n",
    "forecast_index = range(len(energia), len(energia) + prediction_length)\n",
    "low, median, high = np.quantile(forecast[0].numpy(), [0.1, 0.5, 0.9], axis=0)\n",
    "subi=energia.loc[35000:]\n",
    "plt.figure(figsize=(8, 4))\n",
    "plt.plot(subi[\"price actual\"], color=\"royalblue\", label=\"historical data\")\n",
    "#plt.plot(subi[\"humidity\"]*3, color=\"green\", label=\"humidity\")\n",
    "#plt.plot(subi[\"wind_speed\"]*40, color=\"black\", label=\"pressure\")\n",
    "\n",
    "plt.plot(forecast_index, median, color=\"tomato\", label=\"median forecast\")\n",
    "plt.fill_between(forecast_index, low, high, color=\"tomato\", alpha=0.3, label=\"80% prediction interval\")\n",
    "plt.legend()\n",
    "plt.grid()\n",
    "plt.show()"
   ]
  },
  {
   "cell_type": "code",
   "execution_count": null,
   "id": "0fcdee11-0d3d-4ade-9c93-1c40672459e2",
   "metadata": {},
   "outputs": [],
   "source": []
  },
  {
   "cell_type": "code",
   "execution_count": null,
   "id": "035268c5-1f6e-4be7-a76c-4e94b11ee1b2",
   "metadata": {},
   "outputs": [],
   "source": [
    "df = energia.drop('time', axis=1)"
   ]
  },
  {
   "cell_type": "code",
   "execution_count": null,
   "id": "9db05885-3bb1-4758-be63-8e264a86b763",
   "metadata": {},
   "outputs": [],
   "source": [
    "# plotCorrelationMatrix(energia, 8)\n",
    "#corr_matrix = energia.corr()"
   ]
  },
  {
   "cell_type": "code",
   "execution_count": null,
   "id": "a564ab26-a78f-47d6-95ba-caba1d972310",
   "metadata": {},
   "outputs": [],
   "source": [
    "import seaborn as sns"
   ]
  },
  {
   "cell_type": "code",
   "execution_count": null,
   "id": "bcd93dbf-49a2-48f2-8709-2651a3a79b60",
   "metadata": {},
   "outputs": [],
   "source": [
    "df.head()"
   ]
  },
  {
   "cell_type": "code",
   "execution_count": null,
   "id": "04c63a01-f682-44dd-8d5c-1bddf394e4ce",
   "metadata": {},
   "outputs": [],
   "source": [
    "corr_matrix = df.corr()"
   ]
  },
  {
   "cell_type": "code",
   "execution_count": null,
   "id": "caa09cf2-7ce9-4ac3-b9c3-f4a59570e915",
   "metadata": {},
   "outputs": [],
   "source": [
    "import pandas as pd\n",
    "import seaborn as sns\n",
    "import matplotlib.pyplot as plt\n",
    "\n",
    "# Crear el mapa de calor de la matriz de correlación\n",
    "sns.heatmap(corr_matrix, annot=True, cmap='coolwarm')\n",
    "plt.title('Matriz de Correlación')\n",
    "plt.show()\n"
   ]
  },
  {
   "cell_type": "code",
   "execution_count": null,
   "id": "3137f049-72bb-476a-b58c-7a6bb1a44191",
   "metadata": {},
   "outputs": [],
   "source": [
    "import pandas as pd\n",
    "import torch\n",
    "from chronos import ChronosPipeline\n",
    "\n",
    "pipeline = ChronosPipeline.from_pretrained(\n",
    "    \"amazon/chronos-t5-small\",\n",
    "    device_map=\"cpu\",\n",
    "    torch_dtype=torch.bfloat16,\n",
    ")\n",
    "\n",
    "df = pd.read_csv(\"https://raw.githubusercontent.com/AileenNielsen/TimeSeriesAnalysisWithPython/master/data/AirPassengers.csv\")\n",
    "\n",
    "# context must be either a 1D tensor, a list of 1D tensors,\n",
    "# or a left-padded 2D tensor with batch as the first dimension\n",
    "context = torch.tensor(df[\"#Passengers\"])\n",
    "embeddings, tokenizer_state = pipeline.embed(context)"
   ]
  },
  {
   "cell_type": "code",
   "execution_count": null,
   "id": "231793e1-8e6a-449c-8a87-2d8081c7a911",
   "metadata": {},
   "outputs": [],
   "source": [
    "print(embeddings, tokenizer_state)"
   ]
  },
  {
   "cell_type": "code",
   "execution_count": null,
   "id": "5e5b1fff-e188-4ea3-ad5e-7ce703a9a23c",
   "metadata": {},
   "outputs": [],
   "source": [
    "print(embeddings.shape, tokenizer_state.shape)"
   ]
  },
  {
   "cell_type": "code",
   "execution_count": null,
   "id": "c6d8dace-8edd-4831-8e7d-56bb0c74e6a3",
   "metadata": {},
   "outputs": [],
   "source": []
  },
  {
   "cell_type": "code",
   "execution_count": null,
   "id": "c591723a-153f-46c7-9745-8b8f34aa1b92",
   "metadata": {},
   "outputs": [],
   "source": []
  },
  {
   "cell_type": "code",
   "execution_count": null,
   "id": "d4cf3dc3-a29a-46bd-acd9-b808520c683b",
   "metadata": {},
   "outputs": [],
   "source": []
  }
 ],
 "metadata": {
  "kernelspec": {
   "display_name": "Python 3 (ipykernel)",
   "language": "python",
   "name": "python3"
  },
  "language_info": {
   "codemirror_mode": {
    "name": "ipython",
    "version": 3
   },
   "file_extension": ".py",
   "mimetype": "text/x-python",
   "name": "python",
   "nbconvert_exporter": "python",
   "pygments_lexer": "ipython3",
   "version": "3.12.6"
  }
 },
 "nbformat": 4,
 "nbformat_minor": 5
}
